{
 "cells": [
  {
   "cell_type": "code",
   "execution_count": 46,
   "metadata": {},
   "outputs": [],
   "source": [
    "from functools import reduce\n",
    "from pprint import pprint\n",
    "from datetime import datetime\n",
    "import time\n",
    "import sys\n",
    "\n",
    "_print = print\n",
    "print = pprint\n",
    "\n",
    "def data(data):\n",
    "    date1 = \"01/01/2012\"\n",
    "    date2 = data['12 months ending']\n",
    "    newdate1 = time.strptime(date1, \"%d/%m/%Y\")\n",
    "    newdate2 = time.strptime(date2, \"%d/%m/%Y\")\n",
    "    if newdate1 <= newdate2:\n",
    "        return data['12 months ending']\n",
    "    \n",
    "arquivo_completo = ('C:\\\\Users\\\\manoel.torres\\\\OneDrive - Kumulus\\\\Documents\\\\GitHub\\\\Python\\\\EXERCICIOS\\\\ex4_kumulus\\\\reccrimepfa-210902-120414.csv')\n",
    "\n",
    "    \n",
    "lines = (line for line in open(arquivo_completo))\n",
    "list_line = (s.rstrip().split(\",\") for s in lines)\n",
    "cols = next(list_line)\n",
    "to_dict = (dict(zip(cols, data)) for data in list_line)\n",
    "\n",
    "crimes_dicio = map(\n",
    "    lambda x:\n",
    "        x['Rolling year total number of offences'],\n",
    "        filter(data,to_dict\n",
    "            )\n",
    "        )\n",
    "\n",
    "result_soma = reduce(lambda soma, crime: soma + int(crime), crimes_dicio, 0 )\n",
    "\n"
   ]
  },
  {
   "cell_type": "code",
   "execution_count": 47,
   "metadata": {},
   "outputs": [
    {
     "data": {
      "text/plain": [
       "128783492"
      ]
     },
     "execution_count": 47,
     "metadata": {},
     "output_type": "execute_result"
    }
   ],
   "source": [
    "result_soma\n"
   ]
  },
  {
   "cell_type": "code",
   "execution_count": 49,
   "metadata": {},
   "outputs": [
    {
     "name": "stdout",
     "output_type": "stream",
     "text": [
      "104\n",
      "48\n"
     ]
    }
   ],
   "source": [
    "print(sys.getsizeof(to_dict))\n",
    "print(sys.getsizeof(crimes_dicio))"
   ]
  }
 ],
 "metadata": {
  "interpreter": {
   "hash": "a345a2bfc6530afb4384d2d37478ca0d0892bbc8d24114ac0e7e6d94cf9a0dc1"
  },
  "kernelspec": {
   "display_name": "Python 3.10.1 64-bit",
   "language": "python",
   "name": "python3"
  },
  "language_info": {
   "codemirror_mode": {
    "name": "ipython",
    "version": 3
   },
   "file_extension": ".py",
   "mimetype": "text/x-python",
   "name": "python",
   "nbconvert_exporter": "python",
   "pygments_lexer": "ipython3",
   "version": "3.10.1"
  },
  "orig_nbformat": 4
 },
 "nbformat": 4,
 "nbformat_minor": 2
}
