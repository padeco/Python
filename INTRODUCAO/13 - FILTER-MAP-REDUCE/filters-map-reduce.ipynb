{
 "cells": [
  {
   "cell_type": "code",
   "execution_count": 220,
   "metadata": {},
   "outputs": [],
   "source": [
    "from pprint import pprint\n",
    "from functools import reduce\n",
    "import sys\n",
    "# sys.getsizeof(x)\n",
    "\n",
    "\n",
    "_print = print\n",
    "print = pprint\n",
    "#Funcao lista basicamente salva tudo que for retornado como True e discarta o que for False\n",
    "\n",
    "x = [1,2,3,4,5,6,7,8,9,10]"
   ]
  },
  {
   "cell_type": "code",
   "execution_count": 221,
   "metadata": {},
   "outputs": [],
   "source": [
    "# Essa funcao <par> de <n> verifica se o numero é par, <n> recebe o valor q sera chamado pela funcao <filter>\n",
    "\n",
    "def par(n):\n",
    "    if n % 2 == 0:\n",
    "        return True\n",
    "    else:\n",
    "        return False"
   ]
  },
  {
   "cell_type": "code",
   "execution_count": 222,
   "metadata": {},
   "outputs": [
    {
     "data": {
      "text/plain": [
       "[2, 4, 6, 8, 10]"
      ]
     },
     "execution_count": 222,
     "metadata": {},
     "output_type": "execute_result"
    }
   ],
   "source": [
    "list(filter(par,x))"
   ]
  },
  {
   "cell_type": "code",
   "execution_count": 223,
   "metadata": {},
   "outputs": [],
   "source": [
    "produtos = [\n",
    "    {'nome': 'P1', 'preco': 59.90, 'peso_kg': 1.312, 'variacoes': ['a', 'b']},\n",
    "    {'nome': 'P2', 'preco': 19.55, 'peso_kg': 2.300, 'variacoes': ['c', 'd']},\n",
    "    {'nome': 'P3', 'preco': 9.13, 'peso_kg': 0.150, 'variacoes': ['e', 'f']},\n",
    "    {'nome': 'P4', 'preco': 3.49, 'peso_kg': 0.789, 'variacoes': ['g', 'h']},\n",
    "    {'nome': 'P5', 'preco': 33.22, 'peso_kg': 3.578, 'variacoes': ['i', 'j']},\n",
    "    {'nome': 'P6', 'preco': 67.79, 'peso_kg': 9.920, 'variacoes': ['k', 'l']},\n",
    "    {'nome': 'P7', 'preco': 45.31, 'peso_kg': 1.123, 'variacoes': ['m', 'n']},\n",
    "    {'nome': 'P8', 'preco': 93.27, 'peso_kg': 0.521, 'variacoes': ['o', 'p']},\n",
    "    {'nome': 'P9', 'preco': 1.90, 'peso_kg': 1.300, 'variacoes': ['q', 'r']}\n",
    "]"
   ]
  },
  {
   "cell_type": "code",
   "execution_count": 224,
   "metadata": {},
   "outputs": [
    {
     "name": "stdout",
     "output_type": "stream",
     "text": [
      "<class 'list'>\n",
      "[{'nome': 'P1', 'peso_kg': 1.312, 'preco': 59.9, 'variacoes': ['a', 'b']},\n",
      " {'nome': 'P2', 'peso_kg': 2.3, 'preco': 19.55, 'variacoes': ['c', 'd']},\n",
      " {'nome': 'P3', 'peso_kg': 0.15, 'preco': 9.13, 'variacoes': ['e', 'f']},\n",
      " {'nome': 'P4', 'peso_kg': 0.789, 'preco': 3.49, 'variacoes': ['g', 'h']},\n",
      " {'nome': 'P5', 'peso_kg': 3.578, 'preco': 33.22, 'variacoes': ['i', 'j']},\n",
      " {'nome': 'P6', 'peso_kg': 9.92, 'preco': 67.79, 'variacoes': ['k', 'l']},\n",
      " {'nome': 'P7', 'peso_kg': 1.123, 'preco': 45.31, 'variacoes': ['m', 'n']},\n",
      " {'nome': 'P8', 'peso_kg': 0.521, 'preco': 93.27, 'variacoes': ['o', 'p']},\n",
      " {'nome': 'P9', 'peso_kg': 1.3, 'preco': 1.9, 'variacoes': ['q', 'r']}]\n"
     ]
    }
   ],
   "source": [
    "print(type(produtos))\n",
    "print(produtos)"
   ]
  },
  {
   "cell_type": "code",
   "execution_count": 225,
   "metadata": {},
   "outputs": [
    {
     "name": "stdout",
     "output_type": "stream",
     "text": [
      "[59.9, 19.55, 9.13, 3.49, 33.22, 67.79, 45.31, 93.27, 1.9]\n"
     ]
    }
   ],
   "source": [
    "#FORMA NORMAL, forma nao pythonica de fazer um separacao de dados.\n",
    "precos = []\n",
    "for produto in produtos:\n",
    "    precos.append(produto['preco'])\n",
    "\n",
    "print(precos)"
   ]
  },
  {
   "cell_type": "code",
   "execution_count": 226,
   "metadata": {},
   "outputs": [
    {
     "name": "stdout",
     "output_type": "stream",
     "text": [
      "[{'Preço + 5%': 63},\n",
      " {'Preço + 5%': 21},\n",
      " {'Preço + 5%': 10},\n",
      " {'Preço + 5%': 4},\n",
      " {'Preço + 5%': 35},\n",
      " {'Preço + 5%': 71},\n",
      " {'Preço + 5%': 48},\n",
      " {'Preço + 5%': 98},\n",
      " {'Preço + 5%': 2}]\n"
     ]
    }
   ],
   "source": [
    "#FORMA COM <MAP> a como a funcao map é <iterador> essa é uma forma mais leve de fazer as coisas pois nao salva\n",
    "# todos os valores na memoria e so nos devolve os valores do que nos pedimos. \n",
    "# precos = map(func:, iteravel)]\n",
    "# A funcao <lambda> server para que nao precisamos definir um funcao por exemplo:\n",
    "# lambda p: p['precos'] é igual a\n",
    "# produtos_map_list_comprehension = [produto['preco'] for produto in produtos]\n",
    "\n",
    "precos = list(\n",
    "    map(\n",
    "        lambda p: {'Preço + 5%': (\n",
    "            round(\n",
    "                p['preco'] * 1.05\n",
    "                )\n",
    "            )\n",
    "                   }, produtos)\n",
    "    )\n",
    "\n",
    "print(precos)"
   ]
  },
  {
   "cell_type": "code",
   "execution_count": 227,
   "metadata": {},
   "outputs": [],
   "source": [
    "#<POREM> isso nao esta mudando só os precos pois esta referindo a produtos e esta mudando produtos tbm\n",
    "#precos = list(map(lambda p: {**p, 'Preço + 5%': (round(p['preco'] * 1.05))}, produtos))\n",
    "#print(precos)"
   ]
  },
  {
   "cell_type": "code",
   "execution_count": 228,
   "metadata": {},
   "outputs": [
    {
     "name": "stdout",
     "output_type": "stream",
     "text": [
      "[1.312, 2.3, 0.15, 0.789, 3.578, 9.92, 1.123, 0.521, 1.3]\n",
      "[1.312, 2.3, 0.15, 0.789, 3.578, 9.92, 1.123, 0.521, 1.3]\n"
     ]
    }
   ],
   "source": [
    "precos_map = list(\n",
    "    map(\n",
    "        lambda p: p['peso_kg'], produtos\n",
    "        )\n",
    "    )\n",
    "\n",
    "produtos_map_list_comprehension = [\n",
    "    produto['peso_kg'] \n",
    "    for produto in produtos]\n",
    "\n",
    "\n",
    "print(precos_map)\n",
    "print(produtos_map_list_comprehension)"
   ]
  },
  {
   "cell_type": "code",
   "execution_count": 229,
   "metadata": {},
   "outputs": [
    {
     "name": "stdout",
     "output_type": "stream",
     "text": [
      "[59.9, 67.79, 45.31, 93.27]\n",
      "88\n",
      "'Acima comprehension e abaixo filter e map'\n",
      "[59.9, 67.79, 45.31, 93.27]\n",
      "48\n"
     ]
    }
   ],
   "source": [
    "#Olhando o codigo parece que o comprehension É MAIS simples porem dessa forma o arqeuivo ou os dados teriam que\n",
    "#ser salvo na memoria para que fosse filtrado no for e if\n",
    "\n",
    "produtos_map_filter_list_comprehension = [\n",
    "    produto ['preco']\n",
    "    for produto in produtos \n",
    "        if produto ['preco'] > 40]\n",
    "\n",
    "\n",
    "\n",
    "produtos_map_filter = (\n",
    "    map(\n",
    "        lambda x: x['preco'],\n",
    "        filter(\n",
    "            lambda x: x ['preco']> 40, \n",
    "               produtos\n",
    "               )\n",
    "        )\n",
    "                          )\n",
    "\n",
    "\n",
    "print(produtos_map_filter_list_comprehension)\n",
    "print(sys.getsizeof(produtos_map_filter_list_comprehension))\n",
    "\n",
    "print('Acima comprehension e abaixo filter e map')\n",
    "\n",
    "print(list(produtos_map_filter))\n",
    "print(sys.getsizeof(produtos_map_filter))\n"
   ]
  },
  {
   "cell_type": "code",
   "execution_count": 230,
   "metadata": {},
   "outputs": [
    {
     "name": "stdout",
     "output_type": "stream",
     "text": [
      "333.55999999999995\n"
     ]
    }
   ],
   "source": [
    "#Reduce\n",
    "#Como o nome ja diz reduce serve para reduzir algo usado comummente para somar algo\n",
    "#preco_total = reduce(func, sequencia, numero inicial )\n",
    "\n",
    "def preco_reducer (soma, produtos):\n",
    "    return (soma + produtos['preco'])\n",
    "\n",
    "preco_total = reduce(lambda soma, produtos: soma + produtos['preco'], produtos, 0 )\n",
    "print(preco_total)"
   ]
  }
 ],
 "metadata": {
  "interpreter": {
   "hash": "a345a2bfc6530afb4384d2d37478ca0d0892bbc8d24114ac0e7e6d94cf9a0dc1"
  },
  "kernelspec": {
   "display_name": "Python 3.10.1 64-bit",
   "language": "python",
   "name": "python3"
  },
  "language_info": {
   "codemirror_mode": {
    "name": "ipython",
    "version": 3
   },
   "file_extension": ".py",
   "mimetype": "text/x-python",
   "name": "python",
   "nbconvert_exporter": "python",
   "pygments_lexer": "ipython3",
   "version": "3.10.1"
  },
  "orig_nbformat": 4
 },
 "nbformat": 4,
 "nbformat_minor": 2
}
